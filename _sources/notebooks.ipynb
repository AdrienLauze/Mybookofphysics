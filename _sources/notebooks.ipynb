{
 "cells": [
  {
   "attachments": {},
   "cell_type": "markdown",
   "metadata": {},
   "source": [
    "# Neutron diffraction\n",
    "<head>\n",
    "  <style>\n",
    "    h1 {\n",
    "      font-family: Bell MT;\n",
    "    }\n",
    "  </style>\n",
    "</head>\n",
    "\n",
    "<style>\n",
    "  p {\n",
    "    text-align: justify;\n",
    "  }\n",
    "</style>\n",
    "<html>\n",
    "  <head>\n",
    "    <style>\n",
    "      body {\n",
    "        font-family: \"Times New Roman\", serif;\n",
    "      }\n",
    "    </style>\n",
    "  </head>\n",
    "  <body>\n",
    "    <p> Neutron diffraction... \n",
    "</p>\n",
    "  </body>\n",
    "</html>\n",
    "\n",
    "<embed src=\"C:\\Users\\Adrien\\OneDrive\\Bureau\\Exposés\\Grand oral\\Exposé diffraction\\Diffraction_neutronique.pdf\" type=\"application/pdf\" width=\"100%\" height=\"600px\" />\n",
    "\n",
    "\n"
   ]
  }
 ],
 "metadata": {
  "kernelspec": {
   "display_name": "Python 3",
   "language": "python",
   "name": "python3"
  },
  "language_info": {
   "codemirror_mode": {
    "name": "ipython",
    "version": 3
   },
   "file_extension": ".py",
   "mimetype": "text/x-python",
   "name": "python",
   "nbconvert_exporter": "python",
   "pygments_lexer": "ipython3",
   "version": "3.11.3"
  },
  "widgets": {
   "application/vnd.jupyter.widget-state+json": {
    "state": {},
    "version_major": 2,
    "version_minor": 0
   }
  }
 },
 "nbformat": 4,
 "nbformat_minor": 4
}
